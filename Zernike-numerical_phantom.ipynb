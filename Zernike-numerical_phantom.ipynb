{
 "cells": [
  {
   "cell_type": "code",
   "execution_count": 1,
   "metadata": {},
   "outputs": [],
   "source": [
    "import os\n",
    "import multiprocessing as mp\n",
    "import glob\n",
    "import matplotlib.pyplot as plt\n",
    "import skimage\n",
    "from itertools import repeat\n",
    "from tqdm import tqdm_notebook as tqdm\n",
    "from utils import *"
   ]
  },
  {
   "cell_type": "markdown",
   "metadata": {},
   "source": [
    "## Generate the Zernike terms from 0th to 21th"
   ]
  },
  {
   "cell_type": "code",
   "execution_count": null,
   "metadata": {},
   "outputs": [],
   "source": [
    "# saveDir = './zernikemap/'\n",
    "# for idx in range(len(opticspy.zernike.Coefficient().__zernikelist__[0] )):\n",
    "#     initial = opticspy.zernike.Coefficient()\n",
    "#     if idx is 0:\n",
    "#         initial.__coefficients__[idx] = 0\n",
    "#     else:\n",
    "#         initial.__coefficients__[idx] = 1\n",
    "    \n",
    "# #     filepath = saveDir + 'z' + str(idx+1) +'.png'\n",
    "#     filepath = ''\n",
    "#     initial.zernikemap(label=False, filepath=filepath)"
   ]
  },
  {
   "cell_type": "markdown",
   "metadata": {},
   "source": [
    "## Basic Parameters"
   ]
  },
  {
   "cell_type": "code",
   "execution_count": 3,
   "metadata": {},
   "outputs": [],
   "source": [
    "### coefficients for generating RBC\n",
    "c0 = 0.2072\n",
    "c1 = 2.0026\n",
    "c2 = -1.1228\n",
    "\n",
    "### refractive index of RBC and medium\n",
    "n_rbc = 1.395\n",
    "n_med = 1.334\n",
    "\n",
    "### the radius of RBC in um\n",
    "R = 3.9               #(um)\n",
    "\n",
    "### wavelength of light source\n",
    "wavelength = 0.532    #(um)\n",
    "\n",
    "### the pixelsize of CMOS and magnification on optics setup\n",
    "dx = 5.5             #(um)\n",
    "mag = 85\n",
    "\n",
    "### calcuate the grid number of RBC\n",
    "grids = round((R*2) / (dx/mag))    # Ngrid= (2 x radius) / actural size per pixel\n",
    "\n",
    "cmap = plt.cm.gray\n",
    "\n",
    "### plugin number\n",
    "plug_no = 2    #1: opticspy; 2: prysm"
   ]
  },
  {
   "cell_type": "markdown",
   "metadata": {},
   "source": [
    "## Generate the RBC phase distributionn"
   ]
  },
  {
   "cell_type": "code",
   "execution_count": 4,
   "metadata": {},
   "outputs": [
    {
     "data": {
      "image/png": "[encoded data removed]",
      "text/plain": [
       "<Figure size 864x432 with 4 Axes>"
      ]
     },
     "metadata": {
      "needs_background": "light"
     },
     "output_type": "display_data"
    }
   ],
   "source": [
    "S = np.zeros((grids,grids))\n",
    "halfGrids = grids//2\n",
    "for y in range(-halfGrids, halfGrids):\n",
    "    for x in range(-halfGrids, halfGrids):\n",
    "        px = x+halfGrids\n",
    "        py = y+halfGrids\n",
    "        r = np.sqrt(x*x+y*y) * (dx/mag)\n",
    "        if r < R:\n",
    "            S[py,px] = np.sqrt(1-np.power((r/R),2))*(c0+c1*np.power((r/R),2)+c2*np.power((r/R),4)) * R\n",
    "        else:\n",
    "            S[py,px] = 0\n",
    "                    \n",
    "phasemap = np.zeros_like(S)\n",
    "phasemap = S*2*np.pi/wavelength*(n_rbc-n_med)\n",
    "            \n",
    "fig, axes = plt.subplots(nrows=1, ncols=2, figsize=(12, 6),sharex=True, sharey=True)\n",
    "ax1 = axes[0]\n",
    "ax2 = axes[1]\n",
    "im1=ax1.imshow(S, cmap, extent=(-R, R, -R, R))\n",
    "im2=ax2.imshow(phasemap, cmap, extent=(-R, R, -R, R))\n",
    "\n",
    "cbar_ax1 = fig.add_axes([0.15, 0.05, 0.3, 0.02]) \n",
    "cbar1 = fig.colorbar(im1, cax=cbar_ax1, orientation='horizontal').set_label(label='thickness (μm)',size=14)\n",
    "                                                                           \n",
    "cbar_ax2 = fig.add_axes([0.57, 0.05, 0.3, 0.02]) \n",
    "cbar1 = fig.colorbar(im2, cax=cbar_ax2, orientation='horizontal').set_label(label='phi (rad)',size=14)\n",
    "\n",
    "plt.show()"
   ]
  },
  {
   "cell_type": "markdown",
   "metadata": {},
   "source": [
    "## Defint I/O function for QPIs"
   ]
  },
  {
   "cell_type": "markdown",
   "metadata": {},
   "source": [
    "## Build an 3-D RBC model"
   ]
  },
  {
   "cell_type": "code",
   "execution_count": 5,
   "metadata": {},
   "outputs": [],
   "source": [
    "S_3D = np.zeros((grids,grids,grids)).astype(np.float)\n",
    "S_3D[:,:,:] = 0\n",
    "halfGrids = grids//2\n",
    "\n",
    "for y in range(-halfGrids, halfGrids):\n",
    "    for x in range(-halfGrids, halfGrids):\n",
    "        px = x+halfGrids\n",
    "        py = y+halfGrids\n",
    "        r = np.sqrt(x*x+y*y)\n",
    "        if r < halfGrids:\n",
    "            rz = int(0.5*halfGrids*np.sqrt(1-(x*x+y*y)/(halfGrids*halfGrids)) * (c0 + c1*(x*x+y*y)/(halfGrids*halfGrids) + c2*np.power((x*x+y*y),2)/np.power(halfGrids,4)))\n",
    "            S_3D[px,py,halfGrids-rz:halfGrids+rz] = n_rbc\n",
    "            \n",
    "\n",
    "# for z in range(-halfGrids, halfGrids):            \n",
    "#     for y in range(-halfGrids, halfGrids):\n",
    "#         for x in range(-halfGrids, halfGrids):\n",
    "#             px = x+halfGrids\n",
    "#             py = y+halfGrids\n",
    "#             pz = z+halfGrids\n",
    "#             r = np.sqrt(x*x+y*y+z*z)\n",
    "#             if r < halfGrids//3*2:\n",
    "#                 S_3D[px,py,pz] = n_rbc\n",
    "                \n",
    "# S_3D -= n_med"
   ]
  },
  {
   "cell_type": "code",
   "execution_count": 6,
   "metadata": {},
   "outputs": [
    {
     "data": {
      "application/vnd.jupyter.widget-view+json": {
       "model_id": "98fb17e7239b47c3a5f55f74e0607607",
       "version_major": 2,
       "version_minor": 0
      },
      "text/plain": [
       "interactive(children=(IntSlider(value=0, description='x', max=120), Output()), _dom_classes=('widget-interact'…"
      ]
     },
     "metadata": {},
     "output_type": "display_data"
    },
    {
     "data": {
      "text/plain": [
       "<function __main__.f(x)>"
      ]
     },
     "execution_count": 6,
     "metadata": {},
     "output_type": "execute_result"
    }
   ],
   "source": [
    "from __future__ import print_function\n",
    "from ipywidgets import interact, interactive, fixed, interact_manual\n",
    "import ipywidgets as widgets\n",
    "from skimage.transform import resize\n",
    "iMin = np.min(S_3D)\n",
    "iMax = np.max(S_3D)\n",
    "def f(x):\n",
    "    fig, axes = plt.subplots(nrows=1, ncols=1, figsize=(6, 6),sharex=True, sharey=True)\n",
    "    im1=axes.imshow(S_3D[:,:,x],vmin=iMin, vmax=iMax, cmap=plt.cm.jet, extent=(-R, R, -R, R))\n",
    "\n",
    "    cbar_ax1 = fig.add_axes([0.18, 0.05, 0.7, 0.02]) \n",
    "    cbar1 = fig.colorbar(im1, cax=cbar_ax1, orientation='horizontal').set_label(label='Refractive index (a.u.)',size=14)\n",
    "#     plt.imshow(reconRI[:,:,x],vmin=iMin, vmax=iMax, cmap=plt.cm.jet)\n",
    "    plt.show()\n",
    "\n",
    "interact(f, x=widgets.IntSlider(min=0,max=np.shape(S_3D)[2]-1,step=1,value=0))"
   ]
  },
  {
   "cell_type": "code",
   "execution_count": 7,
   "metadata": {},
   "outputs": [
    {
     "data": {
      "application/vnd.jupyter.widget-view+json": {
       "model_id": "b336923992bb46319f8df3e2567ba7b0",
       "version_major": 2,
       "version_minor": 0
      },
      "text/plain": [
       "HBox(children=(FloatProgress(value=0.0, max=121.0), HTML(value='')))"
      ]
     },
     "metadata": {},
     "output_type": "display_data"
    },
    {
     "name": "stdout",
     "output_type": "stream",
     "text": [
      "\n"
     ]
    }
   ],
   "source": [
    "import cupy\n",
    "from cupyx.scipy import ndimage\n",
    "\n",
    "angs=[]\n",
    "projs =[]\n",
    "for ang in range (0,180,1):\n",
    "    tmp3D = ndimage.rotate(cupy.array(S_3D), ang, axes=(1,2), reshape=False)\n",
    "    proj = np.sum(cupy.asnumpy(tmp3D), axis = 2)*(1/(2*np.pi/wavelength))\n",
    "    angs.append(ang)\n",
    "    projs.append(proj)\n",
    "angs=np.array(angs)\n",
    "\n",
    "from skimage.transform import iradon, iradon_sart\n",
    "\n",
    "frames, ny, nx = np.shape(projs)\n",
    "sinogram = np.zeros((ny, frames)).astype(np.float)\n",
    "reconRI = np.zeros((ny,ny,ny)).astype(np.float)\n",
    "iterNum = 2\n",
    "method = 2\n",
    "for line in tqdm(range(0,ny)):\n",
    "    for frame in range (0, frames):\n",
    "        sinogram[:,frame] = projs[frame][:,line]\n",
    "        \n",
    "    if method is 1:\n",
    "        reconstruction_sart = iradon_sart(sinogram, theta=angs)\n",
    "        for iter in range(0,iterNum):\n",
    "            reconstruction_sart = iradon_sart(sinogram, theta=angs, image=reconstruction_sart)\n",
    "            reconstruction_fbp[reconstruction_fbp<n_med] = n_med\n",
    "            reconRI[:,:,line] = reconstruction_sart\n",
    "    else:\n",
    "        reconstruction_fbp = iradon(sinogram, theta=angs, circle=True)\n",
    "        reconRI[:,:,line] = reconstruction_fbp\n"
   ]
  },
  {
   "cell_type": "code",
   "execution_count": 8,
   "metadata": {},
   "outputs": [
    {
     "data": {
      "application/vnd.jupyter.widget-view+json": {
       "model_id": "125afdbcf8d448a09ad4ff0f414eb147",
       "version_major": 2,
       "version_minor": 0
      },
      "text/plain": [
       "interactive(children=(IntSlider(value=0, description='x', max=120), Output()), _dom_classes=('widget-interact'…"
      ]
     },
     "metadata": {},
     "output_type": "display_data"
    },
    {
     "data": {
      "text/plain": [
       "<function __main__.f(x)>"
      ]
     },
     "execution_count": 8,
     "metadata": {},
     "output_type": "execute_result"
    }
   ],
   "source": [
    "from __future__ import print_function\n",
    "from ipywidgets import interact, interactive, fixed, interact_manual\n",
    "import ipywidgets as widgets\n",
    "from skimage.transform import resize\n",
    "iMin = np.min(reconRI)\n",
    "iMax = np.max(reconRI)\n",
    "def f(x):\n",
    "    fig, axes = plt.subplots(nrows=1, ncols=1, figsize=(6, 6),sharex=True, sharey=True)\n",
    "    im1=axes.imshow(reconRI[:,:,x],vmin=iMin, vmax=iMax, cmap=plt.cm.jet, extent=(-R, R, -R, R))\n",
    "\n",
    "    cbar_ax1 = fig.add_axes([0.18, 0.05, 0.7, 0.02]) \n",
    "    cbar1 = fig.colorbar(im1, cax=cbar_ax1, orientation='horizontal').set_label(label='Refractive index (a.u.)',size=14)\n",
    "#     plt.imshow(reconRI[:,:,x],vmin=iMin, vmax=iMax, cmap=plt.cm.jet)\n",
    "    plt.show()\n",
    "\n",
    "interact(f, x=widgets.IntSlider(min=0,max=np.shape(reconRI)[2]-1,step=1,value=0))"
   ]
  },
  {
   "cell_type": "code",
   "execution_count": 9,
   "metadata": {},
   "outputs": [
    {
     "name": "stdout",
     "output_type": "stream",
     "text": [
      "(121, 121)\n"
     ]
    },
    {
     "data": {
      "text/plain": [
       "<matplotlib.image.AxesImage at 0x7fc3307fe7d0>"
      ]
     },
     "execution_count": 9,
     "metadata": {},
     "output_type": "execute_result"
    },
    {
     "data": {
      "image/png": "[encoded data removed]",
      "text/plain": [
       "<Figure size 432x288 with 1 Axes>"
      ]
     },
     "metadata": {
      "needs_background": "light"
     },
     "output_type": "display_data"
    }
   ],
   "source": [
    "import cupy\n",
    "from cupyx.scipy import ndimage\n",
    "tmp3D = ndimage.rotate(cupy.array(S_3D), -50, axes=(1,2), reshape=False)\n",
    "proj = np.sum(cupy.asnumpy(tmp3D), axis = 2)*(1/(2*np.pi/wavelength))\n",
    "print(np.shape(proj))\n",
    "plt.imshow(proj)"
   ]
  },
  {
   "cell_type": "markdown",
   "metadata": {},
   "source": [
    "## Simulate the RBC projection from 0 to 170 degrees, and fit the abberation by Zernike polyminals"
   ]
  },
  {
   "cell_type": "code",
   "execution_count": null,
   "metadata": {},
   "outputs": [],
   "source": [
    "thetaN = 36\n",
    "phiN = 36\n",
    "rotation = np.linspace(0,360, num=thetaN, endpoint=False).astype(np.int)\n",
    "# orientation = np.linspace(-180,180, num=phiN, endpoint=False).astype(np.int)\n",
    "orientation = 0\n",
    "args = []\n",
    "\n",
    "for theta in np.nditer(rotation):\n",
    "    for phi in np.nditer(orientation):\n",
    "        args.append((float(theta),float(phi)))\n",
    "        \n",
    "\n",
    "pool = mp.Pool(8)\n",
    "zc_list = [pool.starmap(zernikeFitting, zip(repeat(S_3D), repeat(wavelength), rotation, repeat(orientation), repeat(1)))] \n",
    "pool.close()\n",
    "pool.join()\n",
    "\n",
    "zc = np.array(zc_list)\n",
    "\n",
    "if plug_no is 1:\n",
    "    c1 = zc[:,:,2]\n",
    "    c2 = zc[:,:,3]\n",
    "    c4 = zc[:,:,4]\n",
    "elif plug_no is 2:\n",
    "    c1 = zc[:,:,1]\n",
    "    c2 = zc[:,:,2]\n",
    "    c4 = zc[:,:,3]"
   ]
  },
  {
   "cell_type": "code",
   "execution_count": null,
   "metadata": {},
   "outputs": [],
   "source": [
    "cosline = np.power(np.cos(np.arange(0,360)*np.pi/180),2)\n",
    "norm_c4 = normalize(c4)\n",
    "\n",
    "fig, ax = plt.subplots()\n",
    "\n",
    "ax.scatter(rotation, norm_c4, c='r', marker='x')\n",
    "ax.plot(np.arange(0,360), cosline, 'b-')\n",
    "ax.set(xlabel='Rotation (degree)', ylabel='Normalized C4 (a.u.)',\n",
    "       title='c4 vs. $cos^{2}$(θ)')\n",
    "plt.show()"
   ]
  },
  {
   "cell_type": "code",
   "execution_count": null,
   "metadata": {},
   "outputs": [],
   "source": [
    "thetaN = 36\n",
    "phiN = 36\n",
    "rotation = np.linspace(0,360, num=thetaN, endpoint=False).astype(np.int)\n",
    "# orientation = np.linspace(-180,180, num=phiN, endpoint=False).astype(np.int)\n",
    "orientation = 0\n",
    "args = []\n",
    "\n",
    "for theta in np.nditer(rotation):\n",
    "    for phi in np.nditer(orientation):\n",
    "        args.append((float(theta),float(phi)))\n",
    "        \n",
    "\n",
    "pool = mp.Pool(8)\n",
    "zc_list = [pool.starmap(zernikeFitting, zip(repeat(S_3D), repeat(wavelength), rotation, repeat(orientation), repeat(2)))] \n",
    "pool.close()\n",
    "pool.join()\n",
    "\n",
    "zc = np.array(zc_list)\n",
    "\n",
    "if plug_no is 1:\n",
    "    c1 = zc[:,:,2]\n",
    "    c2 = zc[:,:,3]\n",
    "    c4 = zc[:,:,4]\n",
    "elif plug_no is 2:\n",
    "    c1 = zc[:,:,1]\n",
    "    c2 = zc[:,:,2]\n",
    "    c4 = zc[:,:,3]"
   ]
  },
  {
   "cell_type": "code",
   "execution_count": null,
   "metadata": {},
   "outputs": [],
   "source": [
    "cosline = np.power(np.cos(np.arange(0,360)*np.pi/180),2)\n",
    "norm_c4 = normalize(c4)\n",
    "\n",
    "fig, ax = plt.subplots()\n",
    "\n",
    "ax.scatter(rotation, norm_c4, c='r', marker='x')\n",
    "ax.plot(np.arange(0,360), cosline, 'b-')\n",
    "ax.set(xlabel='Rotation (degree)', ylabel='Normalized C4 (a.u.)',\n",
    "       title='c4 vs. $cos^{2}$(θ)')\n",
    "plt.show()"
   ]
  },
  {
   "cell_type": "code",
   "execution_count": null,
   "metadata": {},
   "outputs": [],
   "source": [
    "tt = np.arctan2(c1,c2)*180/np.pi\n",
    "\n",
    "fig, ax = plt.subplots()\n",
    "\n",
    "ax.scatter((rotation-180), tt, c='r', marker='x')\n",
    "ax.plot((rotation-180), (rotation-180), 'b-')\n",
    "ax.set(xlabel='Orientation (degree)', ylabel='Measurement angle (degree)',\n",
    "       title='$tan^{-1}$(c1/c2) vs. orientation')\n",
    "plt.show()"
   ]
  },
  {
   "cell_type": "markdown",
   "metadata": {},
   "source": [
    "## Older version (without multiprocessing)"
   ]
  },
  {
   "cell_type": "code",
   "execution_count": null,
   "metadata": {},
   "outputs": [],
   "source": [
    "# rotation = np.linspace(0,360, num=36, endpoint=False).astype(np.int)\n",
    "\n",
    "# nrows=6\n",
    "# ncols=6\n",
    "# fig, axes = plt.subplots(nrows=nrows, ncols=ncols, figsize=(12, 12),sharex=True, sharey=True)\n",
    "\n",
    "# phasemap_list = []\n",
    "# zc_list = []\n",
    "# nr=1024\n",
    "# nc=1024\n",
    "# tmpPM = np.zeros((nr,nc))\n",
    "# sr=(nr-grids)//2\n",
    "# er=sr+grids\n",
    "# sc=(nc-grids)//2\n",
    "# ec=sc+grids\n",
    "\n",
    "# outputDir = './Simualted_RBC'\n",
    "# for theta in tqdm(np.nditer(rotation)):\n",
    "#     newe_S = rotate(S_3D, theta, axes=(1,2), reshape=False)\n",
    "    \n",
    "#     proj = np.sum(newe_S, axis = 2)*(dx/mag)\n",
    "#     phasemap = proj*2*np.pi/wavelength*(n_rbc-n_med)\n",
    "#     c = theta//10%ncols\n",
    "#     r = (theta//10-c)//ncols\n",
    "#     ax = axes[r,c]\n",
    "#     ax.imshow(phasemap, cmap, extent=(-R, R, -R, R))\n",
    "    \n",
    "#     ZC,C = opticspy.zernike.fitting(phasemap,10, display=False)\n",
    "#     tmpPM[sr:er,sc:ec]=phasemap\n",
    "#     zc_list.append(ZC)\n",
    "#     phasemap_list.append(tmpPM)\n",
    "    \n",
    "#     if not os.path.exists(outputDir):\n",
    "#         os.makedirs(outputDir)\n",
    "#     SavePath = '%s/buffer%03d.phimap' %(outputDir,int(theta/10)+1)\n",
    "#     exportPM(SavePath, True, theta*np.pi/180, 0.0, nr, nc, tmpPM)\n",
    "    \n",
    "# plt.show()\n",
    "# zc = np.array(zc_list)"
   ]
  },
  {
   "cell_type": "code",
   "execution_count": null,
   "metadata": {},
   "outputs": [],
   "source": [
    "# !cp -f -R /media/share/HDD2TB/Zernike/Simualted_RBC/ /media/share/MIC110/UntitledFolder/"
   ]
  },
  {
   "cell_type": "markdown",
   "metadata": {},
   "source": [
    "## Estimation of the FSA, SSA and Coma"
   ]
  },
  {
   "cell_type": "code",
   "execution_count": null,
   "metadata": {},
   "outputs": [],
   "source": [
    "# FSA = opticspy.zernike.Coefficient(Z3=ZC[3], Z4=ZC[4], Z5=ZC[5])\n",
    "# SSA = opticspy.zernike.Coefficient(Z11=ZC[11], Z12=ZC[12], Z13=ZC[13])\n",
    "# Coma = opticspy.zernike.Coefficient(Z7=ZC[7], Z8=ZC[8])\n",
    "# FSA.zernikemap(label=False)\n",
    "# SSA.zernikemap(label=False)\n",
    "# Coma.zernikemap(label=False)"
   ]
  },
  {
   "cell_type": "markdown",
   "metadata": {},
   "source": [
    "## Define the functions for loading data and cropping the RBC area"
   ]
  },
  {
   "cell_type": "code",
   "execution_count": null,
   "metadata": {},
   "outputs": [],
   "source": [
    "from scipy.ndimage import zoom, measurements\n",
    "\n",
    "N = 128\n",
    "\n",
    "def importRI(filePath):    \n",
    "    RI = np.fromfile(filePath, dtype=np.float32).reshape((512,512,512))\n",
    "    RI = np.transpose(RI, (2, 1, 0))\n",
    "#     RI = RI[::-1,:,:]\n",
    "    print(RI[256,256,256])\n",
    "    return RI\n",
    "\n",
    "def cropRI(image):\n",
    "    if(len(np.shape(image)) is 3):\n",
    "        (nx, ny, nz) = np.shape(image)\n",
    "        if nx == ny and ny == nz:\n",
    "            R1 = nx//2-N\n",
    "            R2 = R1+N*2\n",
    "            crop_img = image[R1:R2, R1:R2, R1:R2]\n",
    "            resize = zoom(crop_img,(0.5,0.5,0.5))\n",
    "            \n",
    "            # get binary image and center of mass\n",
    "            thresh = skimage.filters.threshold_otsu(resize)\n",
    "            binary = resize > thresh    #elimating small objects might be helpful\n",
    "            center_of_mass = measurements.center_of_mass(binary)\n",
    "            \n",
    "            cy, cx, cz = center_of_mass        \n",
    "            fig, ax = plt.subplots()\n",
    "            im = ax.imshow(np.sum(binary, axis = 2))\n",
    "            ax.plot(cx, cy, 'x')\n",
    "            plt.show()\n",
    "\n",
    "            #recrop the RI\n",
    "            x1 = (int)(cx*2) - N//2\n",
    "            if x1 < 0:\n",
    "                x1 = 0\n",
    "            elif x1 + N >nx:\n",
    "                x1 = nx - N;\n",
    "            x2 = x1 + N\n",
    "            \n",
    "            y1 = (int)(cy*2) - N//2\n",
    "            if y1 < 0:\n",
    "                y1 = 0\n",
    "            elif y1 + N > ny:\n",
    "                y1 = ny - N;\n",
    "            y2 = y1 + N\n",
    "            \n",
    "            z1 = (int)(cz*2) - N//2\n",
    "            if z1 < 0:\n",
    "                z1 = 0\n",
    "            elif z1 + N > nz:\n",
    "                z1 = nz - N;\n",
    "            z2 = z1 + N\n",
    "                \n",
    "            crop_img = crop_img[y1:y2, x1:x2, z1:z2]\n",
    "            thresh = skimage.filters.threshold_otsu(crop_img)\n",
    "            binary = crop_img > thresh\n",
    "            crop_img[binary==False]=0\n",
    "            return crop_img, center_of_mass\n",
    "    else:\n",
    "        return np.ones((N,N,N)), (0,0,0)"
   ]
  },
  {
   "cell_type": "code",
   "execution_count": null,
   "metadata": {},
   "outputs": [],
   "source": [
    "ri_folder = []\n",
    "ri_folder.append('/media/share/HDD2TB/cTDM/RI/healthy/0419sun_532/')\n",
    "\n",
    "for idx, folder in enumerate(ri_folder):\n",
    "    print(folder)\n",
    "    \n",
    "    for file_RI in tqdm(glob.glob(folder + '*.raw')[:1]):\n",
    "        print(file_RI)\n",
    "        rimap, cent = cropRI(importRI(file_RI))"
   ]
  },
  {
   "cell_type": "code",
   "execution_count": null,
   "metadata": {},
   "outputs": [],
   "source": [
    "from __future__ import print_function\n",
    "from ipywidgets import interact, interactive, fixed, interact_manual\n",
    "import ipywidgets as widgets\n",
    "from skimage.transform import resize\n",
    "def f(x):    \n",
    "#     plt.figure(figsize=(10,10))\n",
    "    plt.imshow(rimap[:,:,x], cmap=plt.cm.jet)\n",
    "    plt.show()\n",
    "#     print('File: %s \\nAP/LAT: %s \\nDisease: %s \\nFrames: %s '%(df['file'][x],df['view'][x],df['type'][x],df['frames'][x]))\n",
    "\n",
    "interact(f, x=widgets.IntSlider(min=0,max=np.shape(rimap)[2]-1,step=1,value=0))"
   ]
  },
  {
   "cell_type": "code",
   "execution_count": null,
   "metadata": {},
   "outputs": [],
   "source": [
    "rotation = np.linspace(0,10, num=20, endpoint=False)\n",
    "for theta in tqdm(np.nditer(rotation)):\n",
    "    print(theta)"
   ]
  },
  {
   "cell_type": "code",
   "execution_count": null,
   "metadata": {},
   "outputs": [],
   "source": [
    "rotation = np.linspace(0,360, num=360, endpoint=False)\n",
    "\n",
    "nrows=6\n",
    "ncols=6\n",
    "fig, axes = plt.subplots(nrows=nrows, ncols=ncols, figsize=(12, 12),sharex=True, sharey=True)\n",
    "\n",
    "phasemap_list = []\n",
    "zc_list = []\n",
    "nr=1024\n",
    "nc=1024\n",
    "tmpPM = np.zeros((nr,nc))\n",
    "sr=(nr-grids)//2\n",
    "er=sr+grids\n",
    "sc=(nc-grids)//2\n",
    "ec=sc+grids\n",
    "\n",
    "outputDir = '/media/share/HDD2TB/BatchRecon/Projections_test/'\n",
    "count=0\n",
    "for theta in tqdm(np.nditer(rotation)):\n",
    "    newe_S = rotate(S_3D, theta, axes=(1,2), reshape=False)\n",
    "    \n",
    "    proj = np.sum(newe_S, axis = 2)*(1/(2*np.pi/wavelength))\n",
    "    phasemap = proj*2*np.pi/wavelength*(n_rbc-n_med)\n",
    "#     c = theta//10%ncols\n",
    "#     r = (theta//10-c)//ncols\n",
    "#     ax = axes[r,c]\n",
    "#     ax.imshow(proj, cmap)\n",
    "    \n",
    "    ZC,C = opticspy.zernike.fitting(proj, 37, display=False)\n",
    "#     ZC = zernike.zernikefit(proj, norm=True, terms=37, map_='noll') \n",
    "    tmpPM[sr:er,sc:ec]=phasemap\n",
    "    zc_list.append(ZC)\n",
    "    phasemap_list.append(tmpPM)\n",
    "    \n",
    "    if not os.path.exists(outputDir):\n",
    "        os.makedirs(outputDir)\n",
    "    SavePath = '%s/buffer%03d.phimap' %(outputDir,count)\n",
    "    exportPM(SavePath, True, theta*np.pi/180, 0.0, nr, nc, tmpPM)\n",
    "    count = count+1\n",
    "    \n",
    "plt.show()\n",
    "zc = np.array(zc_list)"
   ]
  },
  {
   "cell_type": "code",
   "execution_count": null,
   "metadata": {},
   "outputs": [],
   "source": []
  }
 ],
 "metadata": {
  "kernelspec": {
   "display_name": "Python 3",
   "language": "python",
   "name": "python3"
  },
  "language_info": {
   "codemirror_mode": {
    "name": "ipython",
    "version": 3
   },
   "file_extension": ".py",
   "mimetype": "text/x-python",
   "name": "python",
   "nbconvert_exporter": "python",
   "pygments_lexer": "ipython3",
   "version": "3.7.8"
  }
 },
 "nbformat": 4,
 "nbformat_minor": 2
}
